{
 "cells": [
  {
   "cell_type": "code",
   "execution_count": 1,
   "metadata": {
    "collapsed": true
   },
   "outputs": [],
   "source": [
    "import numpy as np\n",
    "import math\n",
    "from random import randint"
   ]
  },
  {
   "cell_type": "code",
   "execution_count": 2,
   "metadata": {
    "collapsed": true
   },
   "outputs": [],
   "source": [
    "def Prime(n):\n",
    "    a=2\n",
    "    while n%a!=0:\n",
    "        a+=1\n",
    "        return\n",
    "    a==n"
   ]
  },
  {
   "cell_type": "code",
   "execution_count": 3,
   "metadata": {
    "collapsed": true
   },
   "outputs": [],
   "source": [
    "def B():\n",
    "    print(\"Enter private key: \")\n",
    "    b=int(input())\n",
    "    if(b<0):\n",
    "        print(\"Enter the number greater than null: \")\n",
    "        return X()\n",
    "    else:\n",
    "        return b"
   ]
  },
  {
   "cell_type": "code",
   "execution_count": 4,
   "metadata": {
    "collapsed": true
   },
   "outputs": [],
   "source": [
    "def d(a,p):\n",
    "    D=0\n",
    "    for i in range(p):\n",
    "        if((a*i)%p==1):\n",
    "            D=i\n",
    "    return D"
   ]
  },
  {
   "cell_type": "code",
   "execution_count": 5,
   "metadata": {
    "collapsed": true
   },
   "outputs": [],
   "source": [
    "def cor():\n",
    "    print(\"Введите сообщение\")\n",
    "    M=input()\n",
    "    if(M.isnumeric()):\n",
    "        M=int(M)\n",
    "        return M\n",
    "    else:\n",
    "        print(\"Введите число\")\n",
    "        return cor()"
   ]
  },
  {
   "cell_type": "code",
   "execution_count": 6,
   "metadata": {
    "collapsed": true
   },
   "outputs": [],
   "source": [
    "def simple():\n",
    "    print(\"Enter two prime numbers:\")\n",
    "    p=input()\n",
    "    g=input()\n",
    "    if(p<g):\n",
    "        print(\"The first number must be greater than the second\")\n",
    "        return simple()\n",
    "    else:\n",
    "        p=int(p)\n",
    "        g=int(g)\n",
    "        return p,g"
   ]
  },
  {
   "cell_type": "code",
   "execution_count": 12,
   "metadata": {},
   "outputs": [
    {
     "name": "stdout",
     "output_type": "stream",
     "text": [
      "Enter two prime numbers:\n",
      "997\n",
      "827\n",
      "Enter private key: \n",
      "65\n"
     ]
    }
   ],
   "source": [
    "p,g=simple()\n",
    "n=p*g\n",
    "f=(p-1)*(g-1)\n",
    "e=B()\n",
    "c=d(e,f)\n",
    "if(c==0):\n",
    "    print(\"No converse found\")"
   ]
  },
  {
   "cell_type": "code",
   "execution_count": 13,
   "metadata": {},
   "outputs": [
    {
     "name": "stdout",
     "output_type": "stream",
     "text": [
      "Public key:  65 , 824519\n",
      "Private key:  367049 , 824519\n"
     ]
    }
   ],
   "source": [
    "print(\"Public key: \",e,\",\",n)\n",
    "print(\"Private key: \",c,\",\",n)"
   ]
  },
  {
   "cell_type": "code",
   "execution_count": null,
   "metadata": {
    "collapsed": true
   },
   "outputs": [],
   "source": []
  },
  {
   "cell_type": "code",
   "execution_count": null,
   "metadata": {
    "collapsed": true
   },
   "outputs": [],
   "source": []
  },
  {
   "cell_type": "code",
   "execution_count": null,
   "metadata": {
    "collapsed": true
   },
   "outputs": [],
   "source": []
  },
  {
   "cell_type": "code",
   "execution_count": null,
   "metadata": {
    "collapsed": true
   },
   "outputs": [],
   "source": []
  },
  {
   "cell_type": "code",
   "execution_count": null,
   "metadata": {
    "collapsed": true
   },
   "outputs": [],
   "source": []
  },
  {
   "cell_type": "code",
   "execution_count": null,
   "metadata": {
    "collapsed": true
   },
   "outputs": [],
   "source": []
  },
  {
   "cell_type": "code",
   "execution_count": null,
   "metadata": {
    "collapsed": true
   },
   "outputs": [],
   "source": []
  },
  {
   "cell_type": "code",
   "execution_count": null,
   "metadata": {
    "collapsed": true
   },
   "outputs": [],
   "source": []
  }
 ],
 "metadata": {
  "kernelspec": {
   "display_name": "Python 3",
   "language": "python",
   "name": "python3"
  },
  "language_info": {
   "codemirror_mode": {
    "name": "ipython",
    "version": 3
   },
   "file_extension": ".py",
   "mimetype": "text/x-python",
   "name": "python",
   "nbconvert_exporter": "python",
   "pygments_lexer": "ipython3",
   "version": "3.6.2"
  }
 },
 "nbformat": 4,
 "nbformat_minor": 2
}
